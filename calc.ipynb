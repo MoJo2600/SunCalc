{
 "cells": [
  {
   "cell_type": "code",
   "execution_count": 12,
   "metadata": {},
   "outputs": [],
   "source": [
    "\n",
    "import * as SunCalc from './suncalc.js';\n",
    "// import date from date;\n",
    "\n",
    "var date = new Date('2024-06-01UTC'),\n",
    "    lat = 49.051944,\n",
    "    lng = 11.782778,\n",
    "    height = 514;"
   ]
  },
  {
   "cell_type": "code",
   "execution_count": 14,
   "metadata": {},
   "outputs": [
    {
     "ename": "TypeError",
     "evalue": "Cannot read properties of undefined (reading 'push')",
     "output_type": "error",
     "traceback": [
      "Stack trace:",
      "TypeError: Cannot read properties of undefined (reading 'push')",
      "    at <anonymous>:7:15"
     ]
    }
   ],
   "source": [
    "Date.prototype.addDays = function(days) {\n",
    "    var date = new Date(this.valueOf());\n",
    "    date.setDate(date.getDate() + days);\n",
    "    return date;\n",
    "}\n",
    "\n",
    "let data = [];\n",
    "\n",
    "SunCalc.times.push(\n",
    "    [-0.233, 'mine',       'yours'      ],\n",
    ");\n",
    "\n",
    "for (let i = 0; i<365; i++) {\n",
    "    let curDate = date.addDays(i);\n",
    "    var sunPos = SunCalc.getTimes(curDate, lat, lng, height);\n",
    "\n",
    "    data.push(sunPos)\n",
    "}\n",
    "\n",
    "\n",
    "// for (let i = 0; i<24; i++) {\n",
    "//     let curDate = date.setHours(i);\n",
    "//     var sunPos = SunCalc.getPosition(curDate, lat, lng);\n",
    "\n",
    "//     data.push(sunPos)\n",
    "// }\n",
    "\n",
    "console.table(data);\n"
   ]
  }
 ],
 "metadata": {
  "kernelspec": {
   "display_name": "Deno",
   "language": "typescript",
   "name": "deno"
  },
  "language_info": {
   "file_extension": ".ts",
   "mimetype": "text/x.typescript",
   "name": "typescript",
   "nb_converter": "script",
   "pygments_lexer": "typescript",
   "version": "5.4.5"
  }
 },
 "nbformat": 4,
 "nbformat_minor": 2
}
